{
 "cells": [
  {
   "cell_type": "code",
   "execution_count": null,
   "metadata": {},
   "outputs": [],
   "source": [
    "import pandas as pd\n",
    "pd.set_option('max_colwidth', 800)\n",
    "pd.options.display.max_rows = 999"
   ]
  },
  {
   "cell_type": "code",
   "execution_count": null,
   "metadata": {},
   "outputs": [],
   "source": [
    "def swap_helpful_and_reported(dataframe):\n",
    "    cols = dataframe.columns.tolist()\n",
    "    cols[6], cols[7] = cols[7], cols[6] #swap the helpful and reported columns into what our database expects\n",
    "    df = dataframe[cols]\n",
    "    return df"
   ]
  },
  {
   "cell_type": "code",
   "execution_count": null,
   "metadata": {},
   "outputs": [],
   "source": [
    "questions = pd.read_csv('questions.csv')\n",
    "questions = swap_helpful_and_reported(questions)"
   ]
  },
  {
   "cell_type": "code",
   "execution_count": null,
   "metadata": {},
   "outputs": [],
   "source": [
    "answers = pd.read_csv('answers.csv')\n",
    "answers = swap_helpful_and_reported(answers)"
   ]
  },
  {
   "cell_type": "code",
   "execution_count": null,
   "metadata": {},
   "outputs": [],
   "source": [
    "# answers = answers.head(1000)"
   ]
  },
  {
   "cell_type": "code",
   "execution_count": null,
   "metadata": {},
   "outputs": [],
   "source": [
    "answers_photos = pd.read_csv('answers_photos.csv')\n",
    "answers_photos = answers_photos[[' answer_id',' url']]"
   ]
  },
  {
   "cell_type": "code",
   "execution_count": null,
   "metadata": {},
   "outputs": [],
   "source": [
    "# answers_photos = answers_photos.head(289)"
   ]
  },
  {
   "cell_type": "code",
   "execution_count": null,
   "metadata": {},
   "outputs": [],
   "source": [
    "answers_photos_len = answers_photos.shape[0]"
   ]
  },
  {
   "cell_type": "code",
   "execution_count": null,
   "metadata": {},
   "outputs": [],
   "source": [
    "# def get_all_photos_for_answer(answer_id):\n",
    "#     urls = answers_photos[answers_photos[' answer_id'] == answer_id][' url'].tolist()\n",
    "#     urls = [\"\\\"\" + url + \"\\\"\" for url in urls]\n",
    "#     return (\"{\"+(\",\".join(urls))+\"}\")"
   ]
  },
  {
   "cell_type": "code",
   "execution_count": null,
   "metadata": {},
   "outputs": [],
   "source": [
    "index = 0"
   ]
  },
  {
   "cell_type": "code",
   "execution_count": null,
   "metadata": {},
   "outputs": [],
   "source": [
    "def get_all_photos_for_answer(answer_id):\n",
    "    global index\n",
    "    try:\n",
    "        if index < answers_photos_len:\n",
    "            urls = []\n",
    "            while (answers_photos.iloc[index][0] == answer_id):\n",
    "                print(index)\n",
    "                urls.append(answers_photos.iloc[index][1])\n",
    "                index += 1\n",
    "        \n",
    "            urls = [\"\\\"\" + url + \"\\\"\" for url in urls]\n",
    "            return (\"{\"+(\",\".join(urls))+\"}\")\n",
    "        else:\n",
    "            return \"{}\"\n",
    "    except:\n",
    "        return \"{}\""
   ]
  },
  {
   "cell_type": "code",
   "execution_count": null,
   "metadata": {},
   "outputs": [],
   "source": [
    "answers['photos'] = answers.id.apply(lambda id: get_all_photos_for_answer(id))"
   ]
  },
  {
   "cell_type": "code",
   "execution_count": null,
   "metadata": {},
   "outputs": [],
   "source": [
    "questions.to_csv('questions_wrangled.csv',index=False)"
   ]
  },
  {
   "cell_type": "code",
   "execution_count": null,
   "metadata": {},
   "outputs": [],
   "source": [
    "answers.to_csv('answers_wrangled.csv',index=False)"
   ]
  }
 ],
 "metadata": {
  "kernelspec": {
   "display_name": "Python 3",
   "language": "python",
   "name": "python3"
  },
  "language_info": {
   "codemirror_mode": {
    "name": "ipython",
    "version": 3
   },
   "file_extension": ".py",
   "mimetype": "text/x-python",
   "name": "python",
   "nbconvert_exporter": "python",
   "pygments_lexer": "ipython3",
   "version": "3.7.4"
  }
 },
 "nbformat": 4,
 "nbformat_minor": 2
}
